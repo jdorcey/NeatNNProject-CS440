{
 "cells": [
  {
   "cell_type": "markdown",
   "metadata": {},
   "source": [
    "# CS 440 Final Project: Neuro-Evolution of Augmenting Topology\n",
    "*An investigation into the processes and workings of the Neuro-Evolution of Augmenting Topology (NEAT) algorithm in Python.* "
   ]
  },
  {
   "cell_type": "markdown",
   "metadata": {},
   "source": [
    "*By Tom Shaw and Jennifer Dorcey, Fall 2017*"
   ]
  },
  {
   "cell_type": "markdown",
   "metadata": {},
   "source": [
    "## Introduction and Theory"
   ]
  },
  {
   "cell_type": "markdown",
   "metadata": {},
   "source": [
    "TOM:\n",
    "\n",
    "**WHAT, WHY AND VERY BREIF OVERVIEW OF METHODS AND RESULTS**\n",
    "\n",
    "\n",
    "The Artificial Intelligence problem that we investigated for this project is the effectiveness of Neuro-Evolution of Augmenting Topologies (NEAT) on simple games such as Towers of Hanoi and 2048\n",
    "\n",
    "\n",
    "   * We will try to answer the following questions about the problem:\n",
    "       * What is NEAT and how can it be effectivlty implemented to solve simple game problems?\n",
    "       * What is the time frame associated with generating a proper neural network for the Towers of Hanoi game and will it find the optimal solution?\n",
    "       * (optional, depending on time) How effective is the generality of our implementation onto games other than Towers of Hanoi?\n",
    "   * We are interested in this AI algorithm becasue it applies organic strategies to an inorganic subject. We are both interested in how the human brain works and develops and we thought this algorithm was the closest related algorithm to that intrest."
   ]
  },
  {
   "cell_type": "markdown",
   "metadata": {},
   "source": [
    "## Methods"
   ]
  },
  {
   "cell_type": "markdown",
   "metadata": {},
   "source": [
    "The first steps we took in beginning this project involved deciding how we could generalize \"game\" classes so that we could optimize our code and not be limited to only using one game to train and test our NEAT algorithm on Neat Neural Networks.  In order for our program to be able to use a \"game\", we decided that every different \"game\" class must define all of the following variables and functions:\n",
    "\n",
    "- `__init__(self):`  This is the constructor for each game class.  The constructor for the game class must contain the variable self.state.  This variable will change throughout the program as it represents the current state of the game from start to finish.  \n",
    "\n",
    "- `__repr__(self):`  This function is used to print the current game state in a human readable format just by using the command print(game).\n",
    "\n",
    "- `validMoves(self):`  There has to be a new move chosen for every state of the game.  The validMoves() function analyzes the current state of the game and then returns a list containing all of the legal moves that could be made in the current state.\n",
    "\n",
    "- `makeMove(self, move):`  This is how the game is able to change its state.  The function is given a randomly chosen legal move, it then applies this move to the games current state and updates the current state of the game to reflect this move.\n",
    "\n",
    "- `gameOver(self):`  We use this function in order to check the games current state.  The function returns True if the games current state has reached its goal state or if there are no more legal moves that can be made given the games current state.  The function returns False if the game has not reached its goal state or if there are more moves that can be made given the games current state.\n",
    "\n",
    "- `newStateRep(self):`  This function repersents the games state as a single list of elements.\n",
    "\n",
    "- `inputSize(self):`  We use this function as a way to get the number of inputs that will be used to create new Neural Networks.\n",
    "\n",
    "\n",
    "Thus, as long as each different \"game\" class has these specified variables and functions defined, our program should be able to use the \"game\" to run our program.\n",
    "\n",
    "We defined two game classes for this project which we used to train and test Neat Neural Networks with our implementation of the NEAT algorithm.  The two game classes we have implemented are the Towers of Hanoi game class and the Twenty Forty Eight game class.  \n",
    "\n",
    "For TowersofHanoi.py and Qnet.py, we reused some of our code from previous assignments and some of the code from [Lecture 21](http://nbviewer.jupyter.org/url/www.cs.colostate.edu/~anderson/cs440/notebooks/21%20Reinforcement%20Learning%20with%20a%20Neural%20Network%20as%20the%20Q%20Function.ipynb).\n",
    "\n",
    "For the Twenty Eighty Four game class, we found a public [repository](https://github.com/jbutewicz/An-Introduction-to-Interactive-Programming-in-Python/blob/master/Principles%20of%20Computing%20Week%201/2048.py) on Github that we used to help us implement the game class and define our functions.\n",
    "\n",
    "We also used the code in [nn2.tar](http://www.cs.colostate.edu/~anderson/cs440/notebooks/nn2.tar) which includes neuralnetworks.py, scaledconjugategradient.py, and mlutils.py. However, in neuralnetworks.py we removed the code for the class NeuralNetworksClassifier as it did not apply to our project.\n",
    "\n",
    "Next, we mapped out how we wanted to implement a Neuron class and a Neat Neural Network class which can be used with our NEAT algorithm.  The implementation for our NEAT algorithm is in Neat.py.  Within this class we have defined functions that train a Neat Neural Network and test the current champion of the Neat Neural Networks.  Since we are using the NEAT algorithm, our implementation includes breeding and mutating Neat Neural Networks.\n",
    "\n",
    "\n",
    "We have also defined the class NeatNN.py such that each Neat Neural Network is able to calculate the value of each neuron and then pass the value to the next layer until it has calculated the value of the last layer of neurons.  This class can also add a new neuron to the Neat Neural Network.  To be able to do this the Network must get the information about the gene that the neuron will be added to, compute the elements of the new neuron, then add the neuron to the correct place in the Network along with the newly calculated weights.  Thus, the Network is able to add a gene to any random neuron-neuron combination. Each Neat Neural Network must also be able to determine if a mutation should occur and what mutation should take place. The Neat Neural Network is also able to calculate the value of the fitness as described by the problem.\n",
    "\n",
    "Finally the class Neuron.py\n",
    "        \n",
    "We worked closely together on many aspects of this project and both team mebers contrabutied significantly.  We created a GitHub repository for this project in order to make working on it as a team easier. To begin, we decided together how we wanted to implement each aspect of our project.  Then we decied which aspects we would work on individually in order to better divide and conqure the project  \n",
    "\n",
    "Jennifer was responsible for the implementation of the Towers of Hanoi game class, the Twenty Forty Eight game class, and making Qnet.py work with a general game instead of only with the Towers of Hanoi game. She also wrote the Methods section, Results section, and Discussion section of the project report.\n",
    "\n",
    "Tom was responsible for the implemetation of Neat.py, NeatNN.py, and Neuron.py. He aso wrote the Introduction and Theory section of the project report.\n",
    "\n",
    "We worked as a team to write the conclusion section of the project report.\n",
    "\n"
   ]
  },
  {
   "cell_type": "markdown",
   "metadata": {},
   "source": [
    "## Results"
   ]
  },
  {
   "cell_type": "markdown",
   "metadata": {},
   "source": [
    "question about the algorithm we will try to answer is how effective NEAT is at generating neural networks to solve game problems.\n",
    "\n",
    "We believe the time frame for generating a network to solve Towers of Hanoi optimally will be relatively rapid.  We are basing this speculation off how long it took to train the Q function using Reenforcement Learning in Assignment 5.\n",
    "\n",
    "\n",
    "We believe that NEAT can be applied generally and, given enough time, it can be efficent in solving whatever problem it is applied to.\n",
    "\n",
    "\n",
    "tables and graphs"
   ]
  },
  {
   "cell_type": "markdown",
   "metadata": {},
   "source": [
    "## Discussion"
   ]
  },
  {
   "cell_type": "markdown",
   "metadata": {},
   "source": [
    "how to run the code\n",
    "How were testing,\n",
    "\n",
    "\n",
    "We compared the time it takes to train and time to test and the spatical complexity\n",
    "\n",
    "environment we are running it in \n",
    "\n",
    "can he show our report to general the public?"
   ]
  },
  {
   "cell_type": "markdown",
   "metadata": {},
   "source": [
    "## Conclusion"
   ]
  },
  {
   "cell_type": "markdown",
   "metadata": {},
   "source": [
    "what we learned"
   ]
  },
  {
   "cell_type": "markdown",
   "metadata": {},
   "source": [
    "## References"
   ]
  },
  {
   "cell_type": "markdown",
   "metadata": {},
   "source": [
    "- Lecture 21: http://nbviewer.jupyter.org/url/www.cs.colostate.edu/~anderson/cs440/notebooks/21%20Reinforcement%20Learning%20with%20a%20Neural%20Network%20as%20the%20Q%20Function.ipynb\n",
    "\n",
    "- [nn2.tar](http://www.cs.colostate.edu/~anderson/cs440/notebooks/nn2.tar)\n",
    "\n",
    "- 2084 game help: https://github.com/jbutewicz/An-Introduction-to-Interactive-Programming-in-Python/blob/master/Principles%20of%20Computing%20Week%201/2048.py"
   ]
  },
  {
   "cell_type": "code",
   "execution_count": null,
   "metadata": {},
   "outputs": [],
   "source": []
  }
 ],
 "metadata": {
  "kernelspec": {
   "display_name": "Python 3",
   "language": "python",
   "name": "python3"
  },
  "language_info": {
   "codemirror_mode": {
    "name": "ipython",
    "version": 3
   },
   "file_extension": ".py",
   "mimetype": "text/x-python",
   "name": "python",
   "nbconvert_exporter": "python",
   "pygments_lexer": "ipython3",
   "version": "3.6.3"
  }
 },
 "nbformat": 4,
 "nbformat_minor": 2
}
