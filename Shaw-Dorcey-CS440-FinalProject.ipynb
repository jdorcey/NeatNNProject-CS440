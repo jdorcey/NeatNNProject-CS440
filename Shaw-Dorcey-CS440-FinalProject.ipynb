{
 "cells": [
  {
   "cell_type": "markdown",
   "metadata": {},
   "source": [
    "# CS 440 Final Project: Neuro-Evolution of Augmenting Topology\n",
    "*An investigation into the processes and workings of the Neuro-Evolution of Augmenting Topology (NEAT) algorithm in Python.* "
   ]
  },
  {
   "cell_type": "markdown",
   "metadata": {},
   "source": [
    "*By Tom Shaw and Jennifer Dorcey*\n",
    "\n",
    "*December 10th, 2017*"
   ]
  },
  {
   "cell_type": "markdown",
   "metadata": {},
   "source": [
    "## Introduction and Theory"
   ]
  },
  {
   "cell_type": "markdown",
   "metadata": {},
   "source": [
    "The Artificial Intelligence problem that we decided to investigate for this project is the effectiveness of NeuroEvolution of  Augmenting Topologies (NEAT) on the Game Towers of Hanoi.\n",
    "\n",
    "\n",
    "   * We are planning on using most of our code from Assignment 5 and we are also going to be borrowing some of the code used in neuralnetworks.py. However, we plan on using neuralnetworks.py more as inspriation for the code development in this project since NEAT traditionally has its inputs randomly drawn through mutation, rather than utilizing all inputs to every node. Aside from that, there are no existing librarys that we are aware of that will assist us in our code development for the project.\n",
    "   * We will write the code for our NEAT implementation. We intend for the NEAT engine to be written generally so that it is able to be run with any game that has specific functions such as ValidMoves, MakeMoves, and a transparent board state. (This may be tested using the mobile game 2048)\n",
    "   * Since we are using a game engine, we will not be using any additional data.\n",
    "   * We will try to answer the following questions about the problem:\n",
    "       * What is NEAT and how can it be effectivlty implemented to solve simple game problems?\n",
    "       * What is the time frame associated with generating a proper neural network for the Towers of Hanoi game and will it find the optimal solution?\n",
    "       * (optional, depending on time) How effective is the generality of our implementation onto games other than Towers of Hanoi?\n",
    "   * The AI algorithm we will use is NEAT and the question about the algorithm we will try to answer is how effective NEAT is at generating neural networks to solve game problems.\n",
    "   * We are interested in this AI algorithm becasue it applies organic strategies to an inorganic subject. We are both interested in how the human brain works and develops and we thought this algorithm was the closest related algorithm to that intrest.\n",
    "   * Group Members are Tom Shaw and Jennifer Dorcey"
   ]
  },
  {
   "cell_type": "markdown",
   "metadata": {},
   "source": [
    "## Methods"
   ]
  },
  {
   "cell_type": "markdown",
   "metadata": {},
   "source": [
    "We plan to use the following process in orer to complete this project successfully:\n",
    "    * Stage 1:\n",
    "        - Research the algorithm extensivly to increase our knowledge.\n",
    "        - Come up with a specific algorithm for which we intend to implement.\n",
    "    * Stage 2:\n",
    "        - On paper, we will write out how we intend to design and implement the algorithm specified in Stage 1.\n",
    "        - Define functions and their specifications on how they should operate.\n",
    "    * Stage 3:\n",
    "        - Begin to write the code for the implementation of our algorithm.\n",
    "        - Ensure compatability with the Towers of Hanoi game.\n",
    "        - Test and document our code extensively. \n",
    "        - Compare implementations to the specifications defined in Stage 2.\n",
    "    * Stage 4:\n",
    "        - Generate a network using our algorithm.\n",
    "        - Assess fitness of the network in terms of solving game solutions efficently.\n",
    "    * Stage 5 (optional, depending on time):\n",
    "        - Attempt to apply our general algorithm to another game (the mobile game 2048).\n",
    "        - Determine effectiveness of the algorithm in solving new games.\n",
    "    * Stage 6:\n",
    "        - Complete a write up for the project, including diagrams of the highest fitness for each generation.\n",
    "        - Determine how we want to present the final project in order to best display our results. \n",
    "\n",
    "Both Tom and Jenn will be working together closely on every aspect of project. However, Tom will focus slightly more on writing the algorithm and Jenn will focus slightly more on the readabiliy and final presentation format for the project.  "
   ]
  },
  {
   "cell_type": "markdown",
   "metadata": {},
   "source": [
    "## Results"
   ]
  },
  {
   "cell_type": "markdown",
   "metadata": {},
   "source": [
    "We believe the time frame for generating a network to solve Towers of Hanoi optimally will be relatively rapid.  We are basing this speculation off how long it took to train the Q function using Reenforcement Learning in Assignment 5.\n",
    "\n",
    "\n",
    "We believe that NEAT can be applied generally and, given enough time, it can be efficent in solving whatever problem it is applied to."
   ]
  },
  {
   "cell_type": "markdown",
   "metadata": {},
   "source": [
    "## Discussion"
   ]
  },
  {
   "cell_type": "markdown",
   "metadata": {},
   "source": []
  },
  {
   "cell_type": "markdown",
   "metadata": {},
   "source": [
    "## Conclusion"
   ]
  },
  {
   "cell_type": "code",
   "execution_count": null,
   "metadata": {},
   "outputs": [],
   "source": []
  }
 ],
 "metadata": {
  "kernelspec": {
   "display_name": "Python 3",
   "language": "python",
   "name": "python3"
  },
  "language_info": {
   "codemirror_mode": {
    "name": "ipython",
    "version": 3
   },
   "file_extension": ".py",
   "mimetype": "text/x-python",
   "name": "python",
   "nbconvert_exporter": "python",
   "pygments_lexer": "ipython3",
   "version": "3.6.3"
  }
 },
 "nbformat": 4,
 "nbformat_minor": 2
}
