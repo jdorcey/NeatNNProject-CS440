{
 "cells": [
  {
   "cell_type": "markdown",
   "metadata": {},
   "source": [
    "# CS 440 Final Project: Neuro-Evolution of Augmenting Topology\n",
    "*An investigation into the processes and workings of the Neuro-Evolution of Augmenting Topology (NEAT) algorithm in Python.* "
   ]
  },
  {
   "cell_type": "markdown",
   "metadata": {},
   "source": [
    "*By Tom Shaw and Jennifer Dorcey, Fall 2017*"
   ]
  },
  {
   "cell_type": "markdown",
   "metadata": {},
   "source": [
    "## Introduction and Theory"
   ]
  },
  {
   "cell_type": "markdown",
   "metadata": {},
   "source": [
    "TOM:\n",
    "\n",
    "**WHAT, WHY AND VERY BREIF OVERVIEW OF METHODS AND RESULTS**\n",
    "\n",
    "\n",
    "The Artificial Intelligence problem that we investigated for this project is the effectiveness of Neuro-Evolution of Augmenting Topologies (NEAT) on simple games such as Towers of Hanoi and 2048\n",
    "\n",
    "\n",
    "   * We will try to answer the following questions about the problem:\n",
    "       * What is NEAT and how can it be effectivlty implemented to solve simple game problems?\n",
    "       * What is the time frame associated with generating a proper neural network for the Towers of Hanoi game and will it find the optimal solution?\n",
    "       * (optional, depending on time) How effective is the generality of our implementation onto games other than Towers of Hanoi?\n",
    "   * The AI algorithm we will use is NEAT and the question about the algorithm we will try to answer is how effective NEAT is at generating neural networks to solve game problems.\n",
    "   * We are interested in this AI algorithm becasue it applies organic strategies to an inorganic subject. We are both interested in how the human brain works and develops and we thought this algorithm was the closest related algorithm to that intrest.\n",
    "   * Group Members are Tom Shaw and Jennifer Dorcey"
   ]
  },
  {
   "cell_type": "markdown",
   "metadata": {},
   "source": [
    "## Methods"
   ]
  },
  {
   "cell_type": "markdown",
   "metadata": {},
   "source": [
    "STEPS WE TOOK, RESOURCES USED SUCH AS USED CODE AND PAPERS\n",
    "\n",
    "How were testing,\n",
    "\n",
    "wrote TOH and 2048 classes test using Qnet given by chuck, test NEST, the library that we wrote\n",
    "compare time to train and time to test and the spatical complexity\n",
    "\n",
    "environment we are running it in \n",
    "\n",
    "Team member contrabutions\n",
    "\n",
    "   * We are planning on using most of our code from Assignment 5 and we are also going to be borrowing some of the code used in neuralnetworks.py. However, we plan on using neuralnetworks.py more as inspriation for the code development in this project since NEAT traditionally has its inputs randomly drawn through mutation, rather than utilizing all inputs to every node. Aside from that, there are no existing librarys that we are aware of that will assist us in our code development for the project.\n",
    "   * We will write the code for our NEAT implementation. We intend for the NEAT engine to be written generally so that it is able to be run with any game that has specific functions such as ValidMoves, MakeMoves, and a transparent board state. (This may be tested using the mobile game 2048)\n",
    "   * Since we are using a game engine, we will not be using any additional data."
   ]
  },
  {
   "cell_type": "markdown",
   "metadata": {},
   "source": [
    "## Results"
   ]
  },
  {
   "cell_type": "markdown",
   "metadata": {},
   "source": [
    "We believe the time frame for generating a network to solve Towers of Hanoi optimally will be relatively rapid.  We are basing this speculation off how long it took to train the Q function using Reenforcement Learning in Assignment 5.\n",
    "\n",
    "\n",
    "We believe that NEAT can be applied generally and, given enough time, it can be efficent in solving whatever problem it is applied to.\n",
    "\n",
    "tables and graphs"
   ]
  },
  {
   "cell_type": "markdown",
   "metadata": {},
   "source": [
    "## Discussion"
   ]
  },
  {
   "cell_type": "markdown",
   "metadata": {},
   "source": [
    "how to run the code\n",
    "\n",
    "can he show our report to general the public?"
   ]
  },
  {
   "cell_type": "markdown",
   "metadata": {},
   "source": [
    "## Conclusion"
   ]
  },
  {
   "cell_type": "markdown",
   "metadata": {},
   "source": [
    "what we learned"
   ]
  },
  {
   "cell_type": "markdown",
   "metadata": {},
   "source": [
    "## References"
   ]
  },
  {
   "cell_type": "markdown",
   "metadata": {},
   "source": []
  }
 ],
 "metadata": {
  "kernelspec": {
   "display_name": "Python 3",
   "language": "python",
   "name": "python3"
  },
  "language_info": {
   "codemirror_mode": {
    "name": "ipython",
    "version": 3
   },
   "file_extension": ".py",
   "mimetype": "text/x-python",
   "name": "python",
   "nbconvert_exporter": "python",
   "pygments_lexer": "ipython3",
   "version": "3.6.3"
  }
 },
 "nbformat": 4,
 "nbformat_minor": 2
}
