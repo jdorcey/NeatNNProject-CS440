{
 "cells": [
  {
   "cell_type": "markdown",
   "metadata": {},
   "source": [
    "# CS 440 Final Project: Neuro-Evolution of Augmenting Topology\n",
    "*An investigation into the processes and workings of the Neuro-Evolution of Augmenting Topology (NEAT) algorithm in Python.* "
   ]
  },
  {
   "cell_type": "markdown",
   "metadata": {},
   "source": [
    "*Authors: Tom Shaw (shawtm@rams.colostate.edu) and Jennifer Dorcey (jdorcey@rams.colostate.edu)* \n",
    "\n",
    "*Fall 2017*"
   ]
  },
  {
   "cell_type": "markdown",
   "metadata": {},
   "source": [
    "## Introduction"
   ]
  },
  {
   "cell_type": "markdown",
   "metadata": {},
   "source": [
    "The Artificial Intelligence algorithm that we investigated for this project was the effectiveness of the genetic algorithm NEAT on simple games such as the game Towers of Hanoi and the game Twenty Forty Eight. NEAT, which stands for Neuro-Evolution of Augmenting Topologies, is a genetic algorithm that is used in evolving artificial neural networks.  The main idea behind NEAT and why it is such a unique genetic algorithm is that it starts out evolving small, simple neural networks. NEAT continues to evolve these networks over many generations into highly sophisticated and complex networks.  NEAT amis to show how the evolution of neural networks over generations can be used to optimize and complexify solutions.  \n",
    "\n",
    "A neural networks functionality can be affected by its topology, its been shown that improved neural network efficiency resulted from topologies being minimized throughout evolution.  NEAT uses a genetic encoding scheme which allows corresponding genes to be lined up when two genomes, which are linear representations of network connectivity, cross over during mating.  Each genome contains a list of connected node genes.  These node genes provide the genome with a significant amount of information such as the in-node, out-node, weight of the connection, if the a gene has been expressed, and an innovation number for finding corresponding genes.\n",
    "\n",
    "NEAT uses mutation as a way of reproducing and changing a networks topology and connection weights.  It works by adding genes to a genome and there by gradually expanding the size of the genome.  When a connection mutation occurs, a new gene with a random weight is used to connect two unconnected nodes. Another mutation that can occur happens when an existing connection between two nodes is split up by adding a new node that is placed between the previously connected nodes.  Using this method of mutation, new nodes are able to be integrated into the network immediately, thus the network has more time to optimize itself.  As a result of mutation, genomes can be of varying sizes containing different connections in residing the same positions.  Explicit fitness sharing is another method of reproduction that is used by NEAT.  Fitness is used to measure the performance of a genome.  Genomes with a higher fitness have a greater chance of being selected to reproduce and there offspring will replace lower performing genomes.  This is how NEAT creates a new generation.\n",
    "\n",
    "We were able to implement our take on the NEAT algorithm to have most of the functionality that is described above.  There are a few main differences in how we chose to implement this algorthim, one of them being that we did not implement the concept of specie, which allows a network to be further optimized.  Our algorithm is based solely on random mutation to change generations.\n",
    "\n",
    "Our results were that..."
   ]
  },
  {
   "cell_type": "markdown",
   "metadata": {},
   "source": [
    "## Methods"
   ]
  },
  {
   "cell_type": "markdown",
   "metadata": {},
   "source": [
    "The first steps we took in beginning this project involved deciding how we could generalize \"game\" classes so that we could optimize our code and not be limited to only using one game to train and test our NEAT algorithm.  In order for our algorithm to successfully use a \"game\", we decided that every \"game\" class must define all of the following variables and functions:\n",
    "\n",
    "- `__init__(self):`  The constructor for the game class must contain these variables:\n",
    "    - `self.state:`  This will change throughout the program as it represents the current state of the game from start to finish.  \n",
    "    - `self.moves:`  Keeps track of how many moves have been made throughout the game.\n",
    "    - `self.goalState:`  The game state that is needed to win the game.\n",
    "\n",
    "- `__repr__(self):`  This function is used to print the current game state in a human readable format by using the command print(game).\n",
    "\n",
    "- `validMoves(self):`  There has to be a new move chosen at every state of a game.  The validMoves() function analyzes the current state of the game and then returns a list containing all of the legal moves that could be made given this current state.\n",
    "\n",
    "- `makeMove(self, move):`  This is how the game is able to change and update its current state.  The function is given a randomly chosen legal move, which it then applies to the games current state, and updates the current state of the game to reflect this move.\n",
    "\n",
    "- `gameOver(self):`  The gameOver() function is used to check the if current state of the game is the end of the game.  The function returns True if the games current state has reached its goal state or if there are no more legal moves that can be made given the current state.  It then resets the games state so that it is ready to be played again.  The function returns False if the game has not reached its goal state or if there are more moves that can be made given the current state of the game.\n",
    "\n",
    "- `newStateRep(self):`  This function represents the game state as a single list of elements.\n",
    "\n",
    "- `inputSize(self):`  We use this function to get the number of inputs that will be used to create new neural networks.\n",
    "\n",
    "- `reset(self):`  After the game has completed or reached a state where there are no more legal moves to be made, the game resets itself so that it can be played again immediatly.\n",
    "\n",
    "- `allMoves(self):`  This function returns a list of every move that can ever be made within the game.\n",
    "\n",
    "\n",
    "- `fitness(self):`  The fitness function is used to determine the value of performance for the network that will be used when training and breeding neural networks.\n",
    "\n",
    "Thus, as long as each \"game\" class has these specified variables and functions defined, our NEAT algorithm should be able to run by using the \"game\".\n",
    "\n",
    "We defined two game classes for this project which we used to train and test neat neural networks with our implementation of the NEAT algorithm.  The two game classes we have implemented are the Towers of Hanoi game and the Twenty Forty Eight game.  \n",
    "\n",
    "In the implementation of the TOH.py game class and Qnet.py, we reused some of our code from previous assignments and some of the code from [Lecture 21](http://nbviewer.jupyter.org/url/www.cs.colostate.edu/~anderson/cs440/notebooks/21%20Reinforcement%20Learning%20with%20a%20Neural%20Network%20as%20the%20Q%20Function.ipynb).  \n",
    "\n",
    "For the TwentyFourtyEight.py game class, we found a public [repository](https://github.com/jbutewicz/An-Introduction-to-Interactive-Programming-in-Python/blob/master/Principles%20of%20Computing%20Week%201/2048.py) on Github that we used as a reference to help us implement and define how our functions work within the class.\n",
    "\n",
    "We also used the code in [nn2.tar](http://www.cs.colostate.edu/~anderson/cs440/notebooks/nn2.tar) which includes neuralnetworks.py, scaledconjugategradient.py, and mlutils.py. However, in neuralnetworks.py, we removed all of the code for the class NeuralNetworksClassifier as we felt it did not apply directly to our project.\n",
    "\n",
    "Next, we mapped out how we wanted to implement the Neuron and Neat Neural Network classes so that we would be able to use these classes in our NEAT algorithm.  The implementation for our NEAT algorithm is in Neat.py.  Within this class we have defined functions that train neural networks and test the current champion of the networks.  Our implementation of NEAT includes functions that are used to breed and mutate neural networks.\n",
    "\n",
    "We have also defined the class NeatNN.py such that a neural networks is able to calculate the value for each neuron and pass along this value to every layer of neurons until the value can be calculated for the last layer of neurons.  NeatNN.py is also able to add new neurons to a neural network.  To be able to add these neurons, the network must first get all of the information about the gene that the neuron will be added to.  It then computes the elements for the new neuron and adds the neuron, along with the newly calculated weights, to the neural network.  Thus, the network is able to add a gene to any neuron-neuron combination. Each neural network can also determine if a mutation in the network should occur and what that mutation should be. Another important function that each neural network calculates is the value of its fitness.  Fitness is used to analyze how a network is performing.\n",
    "\n",
    "We use the class Neuron.py to add neurons to neural networks.  Each neuron contains a list of all the weights that it is responsible for.  Neurons are capable of passing their value to various neurons in the network and can also add weights between themselves and other neurons in the network.  Another functionality that Neuron.py possesses is the ability to add the capacity and associated values for a neuron, it can also keep track of what index it resides in within the neural network it belongs to. \n",
    "        \n",
    "We worked closely together on many aspects of this project and both team mebers contributed significantly.  We created a GitHub repository for this project to make working as a team easier and more colobrative.  To begin, we decided together how we wanted to implement each aspect of our project.  Then we decied which aspects we would work on individually in order to better divide and conquer this project.  \n",
    "\n",
    "Jennifer was responsible for the implementation of the Towers of Hanoi game class, the Twenty Forty Eight game class, and getting Qnet.py to run with a general game parameter instead of only with the Towers of Hanoi game. She also wrote the Introduction Section, Methods Section, Results Section, and Discussion Section in the projects Jupyter Notebook.  Tom was responsible for the implemetation of the Neat.py class, the NeatNN.py class, and the Neuron.py class.  We worked together as a team to write the Results Section and Conclusion Section and put the finishing touches on the projects Jupyter Notebook."
   ]
  },
  {
   "cell_type": "markdown",
   "metadata": {},
   "source": [
    "## Results"
   ]
  },
  {
   "cell_type": "markdown",
   "metadata": {},
   "source": [
    "question about the algorithm we will try to answer is how effective NEAT is at generating neural networks to solve game problems.\n",
    "\n",
    "We believe the time frame for generating a network to solve Towers of Hanoi optimally will be relatively rapid.  We are basing this speculation off how long it took to train the Q function using Reenforcement Learning in Assignment 5.\n",
    "\n",
    "\n",
    "We believe that NEAT can be applied generally and, given enough time, it can be efficent in solving whatever problem it is applied to.\n",
    "\n",
    "\n",
    "tables and graphs"
   ]
  },
  {
   "cell_type": "code",
   "execution_count": null,
   "metadata": {},
   "outputs": [],
   "source": [
    "import matplotlib.pyplot as plt\n",
    "\n",
    "plt.figure(1)\n",
    "    plt.clf()\n",
    "    \n",
    "    nHLayers = len(nnet.nhs)\n",
    "    nPlotRows = 3 + nHLayers\n",
    "\n",
    "    plt.subplot(nPlotRows,2,1)\n",
    "    plt.plot(nnet.getErrorTrace())\n",
    "    plt.xlabel('Iterations');\n",
    "    plt.ylabel('RMSE')\n",
    "    \n",
    "    plt.title('Regression Example')\n",
    "    plt.subplot(nPlotRows,2,3)\n",
    "    plt.plot(X,T,'o-')\n",
    "    plt.plot(X,Y,'o-')\n",
    "    plt.text(8,12, 'Layer {}'.format(nHLayers+1))\n",
    "    plt.legend(('Train Target','Train NN Output'),loc='lower right',\n",
    "               prop={'size':9})\n",
    "    plt.subplot(nPlotRows,2,5)\n",
    "    plt.plot(Xtest,Ttest,'o-')\n",
    "    plt.plot(Xtest,Ytest,'o-')\n",
    "    plt.xlim(0,10)\n",
    "    plt.text(8,12, 'Layer {}'.format(nHLayers+1))\n",
    "    plt.legend(('Test Target','Test NN Output'),loc='lower right',\n",
    "               prop={'size':9})\n",
    "    colors = ('blue','green','red','black','cyan','orange')\n",
    "    for i in range(nHLayers):\n",
    "        layer = nHLayers-i-1\n",
    "        plt.subplot(nPlotRows,2,i*2+7)\n",
    "        plt.plot(Xtest,Ztest[layer]) #,color=colors[i])\n",
    "        plt.xlim(0,10)\n",
    "        plt.ylim(-1.1,1.1)\n",
    "        plt.ylabel('Hidden Units')\n",
    "        plt.text(8,0, 'Layer {}'.format(layer+1))\n",
    "\n",
    "    plt.subplot(2,2,2)\n",
    "    nnet.draw(['x'],['sine'])\n",
    "    plt.draw()"
   ]
  },
  {
   "cell_type": "markdown",
   "metadata": {},
   "source": [
    "## Discussion"
   ]
  },
  {
   "cell_type": "markdown",
   "metadata": {},
   "source": [
    "how to run the code\n",
    "How were testing,\n",
    "\n",
    "We compared the time it takes to train and time to test and the spatical complexity\n",
    "\n",
    "environment we are running it in \n",
    "   * We will try to answer the following questions about the problem:\n",
    "       * What is NEAT and how can it be effectivlty implemented to solve simple game problems?\n",
    "       * What is the time frame associated with generating a proper neural network for the Towers of Hanoi game and will it find the optimal solution?\n",
    "       * (optional, depending on time) How effective is the generality of our implementation onto games other than Towers of Hanoi?\n",
    "\n",
    "can he show our report to general the public?"
   ]
  },
  {
   "cell_type": "markdown",
   "metadata": {},
   "source": [
    "## Conclusion"
   ]
  },
  {
   "cell_type": "markdown",
   "metadata": {},
   "source": [
    "All in all we both learned a tremendous about about Artificial Intelligence and the NEAT algorithm while working on this project.  We gained   "
   ]
  },
  {
   "cell_type": "markdown",
   "metadata": {},
   "source": [
    "## References"
   ]
  },
  {
   "cell_type": "markdown",
   "metadata": {},
   "source": [
    "- [Lecture 21](http://nbviewer.jupyter.org/url/www.cs.colostate.edu/~anderson/cs440/notebooks/21%20Reinforcement%20Learning%20with%20a%20Neural%20Network%20as%20the%20Q%20Function.ipynb)\n",
    "\n",
    "- [nn2.tar](http://www.cs.colostate.edu/~anderson/cs440/notebooks/nn2.tar)\n",
    "\n",
    "- [2084 Reference](https://github.com/jbutewicz/An-Introduction-to-Interactive-Programming-in-Python/blob/master/Principles%20of%20Computing%20Week%201/2048.py)\n",
    "\n",
    "- [NEAT Users Page](https://www.cs.ucf.edu/~kstanley/neat.html)"
   ]
  },
  {
   "cell_type": "code",
   "execution_count": null,
   "metadata": {},
   "outputs": [],
   "source": []
  }
 ],
 "metadata": {
  "kernelspec": {
   "display_name": "Python 3",
   "language": "python",
   "name": "python3"
  },
  "language_info": {
   "codemirror_mode": {
    "name": "ipython",
    "version": 3
   },
   "file_extension": ".py",
   "mimetype": "text/x-python",
   "name": "python",
   "nbconvert_exporter": "python",
   "pygments_lexer": "ipython3",
   "version": "3.6.3"
  }
 },
 "nbformat": 4,
 "nbformat_minor": 2
}
